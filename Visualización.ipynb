{
 "cells": [
  {
   "cell_type": "markdown",
   "metadata": {},
   "source": [
    "Image(\"images/airmad.jpg\")"
   ]
  },
  {
   "cell_type": "markdown",
   "metadata": {},
   "source": [
    "# Conclusiones:\n",
    "\n",
    "La fortaleza de Madrid como destino urbano se ha consolidado en 2019. El total de pernoctaciones ha superado los 22 millones. Más del 60 % de estas pernoctaciones han sido generadas por viajeros internacionales. El carácter abierto y acogedor de la ciudad, su conectividad y accesibilidad, y la oferta cultural, gastronómica y de ocio son los principales motivos para que Madrid tenga un reconocimiento nacional e internacional entre la demanda turística.\n",
    "\n",
    "En 2019, Madrid recibió un total de 10.419.709 viajeros, un 2,06 % más que en 2018. De ellos, más de 5,5 millones (el 54,85 %) fueron internacionales y generaron un gasto que superó los 10.451 millones de euros.\n",
    "\n",
    "Un factor que confirma la evolución de Madrid como destino urbano es el crecimiento de la estancia media de los visitantes en la ciudad. Las 2,17 noches de estancia media global suponen un incremento del 3,56 % respecto a 2018.\n",
    "\n",
    "Respecto a los mercados emisores internacionales, EE. UU. repite como el más importante para Madrid y el que más crece. En 2019 fueron 809.490 viajeros estadounidenses los que llegaron a la ciudad, un 18,7 % más que en 2018. Los turistas procedentes de China destacan como el segundo mercado emisor que más aumenta y los visitantes italianos recuperan presencia. (Fuente:https://www.madrid-destino.com/)\n",
    "\n",
    "Respecto a los datos de Airnbn en Madrid analizados podemos sacar las sigueintes conclusiones:"
   ]
  },
  {
   "cell_type": "markdown",
   "metadata": {},
   "source": [
    "## Los barrios donde más apartamentos se ofrecen son:"
   ]
  },
  {
   "cell_type": "markdown",
   "metadata": {},
   "source": [
    "## La mayoría de ellos están cerca de los principales puntos de interés de Madrid:"
   ]
  },
  {
   "cell_type": "markdown",
   "metadata": {},
   "source": [
    "## Los que mejor puntuación obtienen se encuentran en:"
   ]
  },
  {
   "cell_type": "markdown",
   "metadata": {},
   "source": [
    "## Los que menos puntuación obtienen se encuentran en:"
   ]
  },
  {
   "cell_type": "markdown",
   "metadata": {},
   "source": [
    "## Los apartamentos más caros se encuentran en:"
   ]
  },
  {
   "cell_type": "markdown",
   "metadata": {},
   "source": [
    "\n",
    "## Los apartamentos más baratos se encuentran en:"
   ]
  }
 ],
 "metadata": {
  "kernelspec": {
   "display_name": "Python 3",
   "language": "python",
   "name": "python3"
  },
  "language_info": {
   "codemirror_mode": {
    "name": "ipython",
    "version": 3
   },
   "file_extension": ".py",
   "mimetype": "text/x-python",
   "name": "python",
   "nbconvert_exporter": "python",
   "pygments_lexer": "ipython3",
   "version": "3.9.1"
  },
  "toc": {
   "base_numbering": 1,
   "nav_menu": {},
   "number_sections": true,
   "sideBar": true,
   "skip_h1_title": false,
   "title_cell": "Table of Contents",
   "title_sidebar": "Contents",
   "toc_cell": false,
   "toc_position": {},
   "toc_section_display": true,
   "toc_window_display": false
  },
  "varInspector": {
   "cols": {
    "lenName": 16,
    "lenType": 16,
    "lenVar": 40
   },
   "kernels_config": {
    "python": {
     "delete_cmd_postfix": "",
     "delete_cmd_prefix": "del ",
     "library": "var_list.py",
     "varRefreshCmd": "print(var_dic_list())"
    },
    "r": {
     "delete_cmd_postfix": ") ",
     "delete_cmd_prefix": "rm(",
     "library": "var_list.r",
     "varRefreshCmd": "cat(var_dic_list()) "
    }
   },
   "types_to_exclude": [
    "module",
    "function",
    "builtin_function_or_method",
    "instance",
    "_Feature"
   ],
   "window_display": false
  }
 },
 "nbformat": 4,
 "nbformat_minor": 5
}
